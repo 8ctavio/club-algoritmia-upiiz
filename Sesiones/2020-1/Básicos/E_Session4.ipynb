{
 "cells": [
  {
   "cell_type": "markdown",
   "metadata": {},
   "source": [
    "Fecha: Martes, 03 de septiembre del 2019.\n",
    "\n",
    "# Sesión 4 - Básicos\n",
    "\n",
    "- Acertijo persona que entra a bar y pide vaso de agua, el cantinero le trae un vaso de agua...\n",
    "- Actividad social (+3: 42, why?, feedback).\n",
    "- Introducción a arreglos\n",
    "    - Un arreglo es un conjunto de datos homogéneos/heterogeneos que se encuentran ubicados en forma consecutiva en la memoria RAM."
   ]
  },
  {
   "cell_type": "code",
   "execution_count": 1,
   "metadata": {},
   "outputs": [],
   "source": [
    "#include <iostream>\n",
    "\n",
    "using namespace std;\n",
    "// Declaración\n",
    "/*\n",
    "{tipo dato} nombreArreglo[{dimension}];\n",
    "{tipo dato} nombreArreglo[] = {val0, val1, val3, val4};\n",
    "*/\n",
    "int arreglo1[10];\n",
    "bool arreglo2[] = {true, true, false, false};\n",
    "string palabras[] = {\"club\", \"de\", \"algoritmia\"};\n",
    "int numVocales = 5;\n",
    "char vocales[numVocales];\n",
    "\n",
    "// Acceso, índice va desde 0\n",
    "cout << arreglo[2] << endl;\n",
    "// Asignación\n",
    "vocales[0] = 'a';\n",
    "vocales[1] = 'e';\n",
    "vocales[2] = 'i';\n",
    "vocales[3] = 'o';\n",
    "vocales[4] = 'u';\n",
    "\n",
    "// Iterar (recorrer) un arreglo\n",
    "for(int i = 0; i < numVocales; i++) {\n",
    "    cout << vocales[i] << endl;\n",
    "}\n"
   ]
  },
  {
   "cell_type": "markdown",
   "metadata": {},
   "source": [
    "### Programa de promedios (step by step).\n",
    "### Problema aplicado, binario a decimal.\n",
    "    - Algoritmo expansión de la base.\n",
    "    - Reto, codificarlo en 20 minutos.\n"
   ]
  },
  {
   "cell_type": "code",
   "execution_count": null,
   "metadata": {},
   "outputs": [],
   "source": []
  }
 ],
 "metadata": {
  "kernelspec": {
   "display_name": "C++11",
   "language": "C++11",
   "name": "xcpp11"
  },
  "language_info": {
   "codemirror_mode": "text/x-c++src",
   "file_extension": ".cpp",
   "mimetype": "text/x-c++src",
   "name": "c++",
   "version": "-std=c++11"
  }
 },
 "nbformat": 4,
 "nbformat_minor": 2
}
