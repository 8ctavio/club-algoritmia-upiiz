{
 "cells": [
  {
   "cell_type": "markdown",
   "metadata": {},
   "source": [
    "Fecha: 27 agosto del 2019.\n",
    "\n",
    "# Sesión 2\n",
    "\n",
    "- Estructuras de control"
   ]
  },
  {
   "cell_type": "code",
   "execution_count": null,
   "metadata": {},
   "outputs": [],
   "source": [
    "if(true) {\n",
    "    \n",
    "}\n",
    "else if(false) {\n",
    "    \n",
    "}\n",
    "else {\n",
    "    \n",
    "}"
   ]
  },
  {
   "cell_type": "markdown",
   "metadata": {},
   "source": [
    "- Calculadora (sumar, restar, multiplicar, dividir).\n",
    "- Problema HackerRank:[Conditional Statements](https://www.hackerrank.com/challenges/c-tutorial-conditional-if-else/problem) "
   ]
  }
 ],
 "metadata": {
  "kernelspec": {
   "display_name": "C++11",
   "language": "C++11",
   "name": "xcpp11"
  },
  "language_info": {
   "codemirror_mode": "text/x-c++src",
   "file_extension": ".cpp",
   "mimetype": "text/x-c++src",
   "name": "c++",
   "version": "-std=c++11"
  }
 },
 "nbformat": 4,
 "nbformat_minor": 2
}
