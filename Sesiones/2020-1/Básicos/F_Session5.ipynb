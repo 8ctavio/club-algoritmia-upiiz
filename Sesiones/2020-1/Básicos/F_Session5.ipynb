{
 "cells": [
  {
   "cell_type": "markdown",
   "metadata": {},
   "source": [
    "Fecha: Miércoles, 04 de septiembre del 2019.\n",
    "\n",
    "# Sesión 5 - Básicos\n",
    "\n",
    "- Introducción a matrices\n",
    "    - Son arreglos bidimensionales."
   ]
  },
  {
   "cell_type": "code",
   "execution_count": null,
   "metadata": {},
   "outputs": [],
   "source": [
    "#include <iostream>\n",
    "\n",
    "using namespace std;\n",
    "// Declaración\n",
    "double temperaturas[2][2];\n",
    "temperaturas[0][0] = 0.34;\n",
    "temperaturas[0][1] = 2.34;\n",
    "temperaturas[1][0] = -0.34;\n",
    "temperaturas[1][1] = 23333.54;"
   ]
  },
  {
   "cell_type": "markdown",
   "metadata": {},
   "source": [
    "### Imprimir matriz transpuesta (step by step).\n",
    "### Imprimir diagonal principal (reto 1).\n",
    "### Imprimir matriz superior triangular (reto 2).\n",
    "### Imprimir matriz inferior triangular (reto 3).\n",
    "\n",
    "- Problema final (Imprimir un triángulo de n niveles con asteriscos).\n",
    "Ejemplo, n = 7"
   ]
  },
  {
   "cell_type": "raw",
   "metadata": {},
   "source": [
    "*\n",
    "**\n",
    "***\n",
    "****\n",
    "*****\n",
    "******\n",
    "*******"
   ]
  }
 ],
 "metadata": {
  "kernelspec": {
   "display_name": "C++11",
   "language": "C++11",
   "name": "xcpp11"
  },
  "language_info": {
   "codemirror_mode": "text/x-c++src",
   "file_extension": ".cpp",
   "mimetype": "text/x-c++src",
   "name": "c++",
   "version": "-std=c++11"
  }
 },
 "nbformat": 4,
 "nbformat_minor": 2
}
