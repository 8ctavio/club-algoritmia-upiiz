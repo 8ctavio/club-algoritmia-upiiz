{
 "cells": [
  {
   "cell_type": "markdown",
   "metadata": {},
   "source": [
    "Fecha: Martes, 19 de agosto del 2019."
   ]
  },
  {
   "cell_type": "markdown",
   "metadata": {},
   "source": [
    "# Recomendaciones generales"
   ]
  },
  {
   "cell_type": "markdown",
   "metadata": {},
   "source": [
    "+ Instalar distro GNU/Linux: Ubuntu, Debian, Kali Linux, ...\n",
    "+ Windows, instalar compilador gcc: MinGW - http://www.codebind.com/cprogramming/install-mingw-windows-10-gcc/\n",
    "+ MAC OS, mmm...\n",
    "+ Editores de texto:\n",
    "    - Atom, paquetes.\n",
    "        ++ file-icons\n",
    "        ++ linter-gcc\n",
    "        ++ minimap\n",
    "    - Visual Studio Code.\n",
    "    - Sublime Text.\n",
    "    - Geany.\n",
    "+ Ser autodidactas (libros de material de consulta, cursos online, YouTube, preguntar, etc.)\n",
    "+ Las matemáticas son importantes.\n",
    "+ Organizar código limpio.\n",
    "+ Aprender Git/GitHub para sus proyectos de código."
   ]
  },
  {
   "cell_type": "markdown",
   "metadata": {},
   "source": [
    "# Programación competitiva"
   ]
  },
  {
   "cell_type": "markdown",
   "metadata": {},
   "source": [
    "Deporte mental\n",
    "\n",
    "En esencia: \n",
    "0x00 Resolver un conjunto finito de problemas mediante un programa de computadora,\n",
    "0x01 bajo las especificaciones de un enunciado,\n",
    "0x02 en un tiempo determinado,\n",
    "0x03 de forma presencial o virtual,\n",
    "0x04 en equipo o individual."
   ]
  },
  {
   "cell_type": "code",
   "execution_count": 4,
   "metadata": {},
   "outputs": [
    {
     "name": "stdout",
     "output_type": "stream",
     "text": [
      "Hola mundo\n"
     ]
    }
   ],
   "source": [
    "#include <iostream>\n",
    "\n",
    "using namespace std;\n",
    "\n",
    "\n",
    "cout << \"Hola mundo\" << endl;"
   ]
  },
  {
   "cell_type": "code",
   "execution_count": null,
   "metadata": {
    "collapsed": true
   },
   "outputs": [],
   "source": []
  }
 ],
 "metadata": {
  "kernelspec": {
   "display_name": "C++11",
   "language": "C++11",
   "name": "xcpp11"
  },
  "language_info": {
   "codemirror_mode": "text/x-c++src",
   "file_extension": ".cpp",
   "mimetype": "text/x-c++src",
   "name": "c++",
   "version": "-std=c++11"
  }
 },
 "nbformat": 4,
 "nbformat_minor": 2
}
