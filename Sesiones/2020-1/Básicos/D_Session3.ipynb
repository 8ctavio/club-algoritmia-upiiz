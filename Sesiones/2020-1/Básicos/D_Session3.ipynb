{
 "cells": [
  {
   "cell_type": "markdown",
   "metadata": {},
   "source": [
    "Fecha: Miércoles, 28 agosto del 2019.\n",
    "\n",
    "# Sesión 3 - Básicos\n",
    "\n",
    "- Ciclos \n",
    "    - for (repetir una cantidad DETERMINADA de veces).\n",
    "    - while (repetir una cantidad INDETERMINADA de veces).\n",
    "    - do while (repetir una cantidad INDETERMINADA de veces, al menos una iteración).\n",
    "[Mostrar GIFS y memes]\n",
    "\n",
    "- Problema 1 - Imprimir las tablas hasta el 42.\n",
    "- Problema 2 - Juego de \"Adivina el número\"."
   ]
  },
  {
   "cell_type": "code",
   "execution_count": null,
   "metadata": {},
   "outputs": [],
   "source": [
    "#include <iostream>\n",
    "\n",
    "using namespace std;\n",
    "\n",
    "for(int i = 0: i < 10; i++) {\n",
    "    cout << \"Hola mundo\" << endl;\n",
    "}\n",
    "\n",
    "while(puedoComerUvas()) {\n",
    "    cout << \"Comiendo uva: \" << comerUva() << endl;\n",
    "}\n",
    "\n",
    "do {\n",
    "    if(!meGustaElClubDeAlgoritmia()) break;\n",
    "} while(true);"
   ]
  },
  {
   "cell_type": "markdown",
   "metadata": {},
   "source": [
    "- Introducción a los arreglos (hacer arreglos de distintos tipos de datos)."
   ]
  }
 ],
 "metadata": {
  "kernelspec": {
   "display_name": "C++11",
   "language": "C++11",
   "name": "xcpp11"
  },
  "language_info": {
   "codemirror_mode": "text/x-c++src",
   "file_extension": ".cpp",
   "mimetype": "text/x-c++src",
   "name": "c++",
   "version": "-std=c++11"
  }
 },
 "nbformat": 4,
 "nbformat_minor": 2
}
