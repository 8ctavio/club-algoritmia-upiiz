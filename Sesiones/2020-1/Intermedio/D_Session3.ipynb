{
 "cells": [
  {
   "cell_type": "markdown",
   "metadata": {},
   "source": [
    "Fecha: Miércoles, 28 agosto del 2019.\n",
    "\n",
    "# Sesión 3 - Intermedios\n",
    "\n",
    "\n",
    "Problemas de calentamiento:\n",
    "- Problema 1 Contar digitos de un número entero.\n",
    "- Problema 2 Ordenar caracteres de una palabra e imprimir la suma de los valores ASCII de cada caracter.\n",
    "\n",
    "\n",
    "Algoritmos Greedy\n",
    "- Problema Geeks For Geeks [Activity Selection Problem](https://www.geeksforgeeks.org/activity-selection-problem-greedy-algo-1/) ** Explicado\n",
    "- Problema CodeForces [Team](https://codeforces.com/problemset/problem/231/A)"
   ]
  }
 ],
 "metadata": {
  "kernelspec": {
   "display_name": "C++11",
   "language": "C++11",
   "name": "xcpp11"
  },
  "language_info": {
   "codemirror_mode": "text/x-c++src",
   "file_extension": ".cpp",
   "mimetype": "text/x-c++src",
   "name": "c++",
   "version": "-std=c++11"
  }
 },
 "nbformat": 4,
 "nbformat_minor": 2
}
