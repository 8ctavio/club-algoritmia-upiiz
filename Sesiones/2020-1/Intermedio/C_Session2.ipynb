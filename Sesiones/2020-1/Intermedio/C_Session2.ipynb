{
 "cells": [
  {
   "cell_type": "markdown",
   "metadata": {},
   "source": [
    "Fecha: Martes, 27 agosto del 2019.\n",
    "\n",
    "# Sesión 2 - Intermedios\n",
    "\n",
    "- Explicación recursividad (los que lo necesiten)\n",
    "\n",
    "Problemas calentamiento:\n",
    "- Problema 1 OmegaUp: [Fórmula recursiva 1](https://omegaup.com/arena/problem/Formula-Recursiva-Uno#problems)\n",
    "- Problema 2 OmegaUp: [Fórmula recursiva 2](https://omegaup.com/arena/problem/Formula-Recursiva-Tres#problems)\n",
    "\n",
    "\n",
    "Intro algoritmos Greedy\n",
    "- ¿Qué son?\n",
    "- Problema 3 (explicado) - \"Obtener el mayor número posible\".\n",
    "- Problema 4 - \"Cambio de una moneda\"\n"
   ]
  },
  {
   "cell_type": "code",
   "execution_count": null,
   "metadata": {},
   "outputs": [],
   "source": [
    "#include <iostream>\n",
    "\n",
    "/*\n",
    "Input: Non-negative integer m. \n",
    "\n",
    "Output: The minimum number of coins with\n",
    "denominations 1, 5, and 10 that\n",
    "changes m.\n",
    "\n",
    "*/"
   ]
  },
  {
   "cell_type": "code",
   "execution_count": null,
   "metadata": {},
   "outputs": [],
   "source": []
  }
 ],
 "metadata": {
  "kernelspec": {
   "display_name": "C++11",
   "language": "C++11",
   "name": "xcpp11"
  },
  "language_info": {
   "codemirror_mode": "text/x-c++src",
   "file_extension": ".cpp",
   "mimetype": "text/x-c++src",
   "name": "c++",
   "version": "-std=c++11"
  }
 },
 "nbformat": 4,
 "nbformat_minor": 2
}
